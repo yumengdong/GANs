{
  "nbformat": 4,
  "nbformat_minor": 0,
  "metadata": {
    "colab": {
      "name": "GANs_MNIST.ipynb",
      "version": "0.3.2",
      "provenance": [],
      "collapsed_sections": []
    },
    "kernelspec": {
      "name": "python3",
      "display_name": "Python 3"
    },
    "accelerator": "GPU"
  },
  "cells": [
    {
      "metadata": {
        "id": "zCeItXNnOAEE",
        "colab_type": "code",
        "colab": {
          "base_uri": "https://localhost:8080/",
          "height": 124
        },
        "outputId": "8111adc2-422a-4bc2-a607-a43f59750dbc"
      },
      "cell_type": "code",
      "source": [
        "from google.colab import drive\n",
        "drive.mount('/content/gdrive')"
      ],
      "execution_count": 2,
      "outputs": [
        {
          "output_type": "stream",
          "text": [
            "Go to this URL in a browser: https://accounts.google.com/o/oauth2/auth?client_id=947318989803-6bn6qk8qdgf4n4g3pfee6491hc0brc4i.apps.googleusercontent.com&redirect_uri=urn%3Aietf%3Awg%3Aoauth%3A2.0%3Aoob&scope=email%20https%3A%2F%2Fwww.googleapis.com%2Fauth%2Fdocs.test%20https%3A%2F%2Fwww.googleapis.com%2Fauth%2Fdrive%20https%3A%2F%2Fwww.googleapis.com%2Fauth%2Fdrive.photos.readonly%20https%3A%2F%2Fwww.googleapis.com%2Fauth%2Fpeopleapi.readonly&response_type=code\n",
            "\n",
            "Enter your authorization code:\n",
            "··········\n",
            "Mounted at /content/gdrive\n"
          ],
          "name": "stdout"
        }
      ]
    },
    {
      "metadata": {
        "id": "Dqa3XAYUOXIn",
        "colab_type": "code",
        "colab": {
          "base_uri": "https://localhost:8080/",
          "height": 35
        },
        "outputId": "17e42be7-cc03-4621-9656-0116a807796d"
      },
      "cell_type": "code",
      "source": [
        "ls"
      ],
      "execution_count": 15,
      "outputs": [
        {
          "output_type": "stream",
          "text": [
            "GANs_MNIST.ipynb  \u001b[0m\u001b[01;34mMNIST_data\u001b[0m/\n"
          ],
          "name": "stdout"
        }
      ]
    },
    {
      "metadata": {
        "id": "Qg3A_rKtOYJ-",
        "colab_type": "code",
        "colab": {
          "base_uri": "https://localhost:8080/",
          "height": 35
        },
        "outputId": "391923fe-3606-4bf5-cff9-422327b89875"
      },
      "cell_type": "code",
      "source": [
        "cd /content/gdrive/My Drive/Colab Notebooks/GANs/Week1"
      ],
      "execution_count": 13,
      "outputs": [
        {
          "output_type": "stream",
          "text": [
            "/content/gdrive/My Drive/Colab Notebooks/GANs/Week1\n"
          ],
          "name": "stdout"
        }
      ]
    },
    {
      "metadata": {
        "id": "qmVQjouaOmUm",
        "colab_type": "code",
        "colab": {
          "base_uri": "https://localhost:8080/",
          "height": 35
        },
        "outputId": "5d47f021-ca79-4bc1-b12a-0a89211e3318"
      },
      "cell_type": "code",
      "source": [
        "pwd"
      ],
      "execution_count": 14,
      "outputs": [
        {
          "output_type": "execute_result",
          "data": {
            "text/plain": [
              "'/content/gdrive/My Drive/Colab Notebooks/GANs/Week1'"
            ]
          },
          "metadata": {
            "tags": []
          },
          "execution_count": 14
        }
      ]
    },
    {
      "metadata": {
        "id": "xikrZcqnN7mq",
        "colab_type": "code",
        "colab": {}
      },
      "cell_type": "code",
      "source": [
        "import tensorflow as tf\n",
        "from tensorflow.examples.tutorials.mnist import input_data\n",
        "import numpy as np\n",
        "import matplotlib.pyplot as plt\n",
        "import matplotlib.gridspec as gridspec\n",
        "import os\n",
        "from tensorflow.python.framework import ops"
      ],
      "execution_count": 0,
      "outputs": []
    },
    {
      "metadata": {
        "id": "x7szOnqIN7mw",
        "colab_type": "code",
        "colab": {}
      },
      "cell_type": "code",
      "source": [
        "# Discriminator Net, hidden layer nodes = 128\n",
        "tf.reset_default_graph()\n",
        "X = tf.placeholder(tf.float32, shape=[784, None])\n",
        "\n",
        "D_W1 = tf.get_variable('D_W1', [128, 784], initializer = tf.contrib.layers.xavier_initializer(seed = 1))\n",
        "D_b1 = tf.get_variable('D_b1', [128, 1], initializer = tf.zeros_initializer())\n",
        "\n",
        "D_W2 = tf.get_variable('D_W2', [1, 128], initializer = tf.contrib.layers.xavier_initializer(seed = 1))\n",
        "D_b2 = tf.get_variable('D_b2', [1, 1], initializer = tf.zeros_initializer())\n",
        "\n",
        "theta_D = [D_W1, D_W2, D_b1, D_b2]\n",
        "\n",
        "# Generator Net, hidden layer nodes = 128\n",
        "Z = tf.placeholder(tf.float32, shape=[100, None])\n",
        "\n",
        "G_W1 = tf.get_variable('G_W1', [128, 100], initializer = tf.contrib.layers.xavier_initializer(seed = 1))\n",
        "G_b1 = tf.get_variable('G_b1', [128, 1], initializer = tf.zeros_initializer())\n",
        "\n",
        "G_W2 = tf.get_variable('G_W2', [784, 128], initializer = tf.contrib.layers.xavier_initializer(seed = 1))\n",
        "G_b2 = tf.get_variable('G_b2', [784, 1], initializer = tf.zeros_initializer())\n",
        "\n",
        "theta_G = [G_W1, G_W2, G_b1, G_b2]\n"
      ],
      "execution_count": 0,
      "outputs": []
    },
    {
      "metadata": {
        "id": "vn_Mhc5rN7m0",
        "colab_type": "code",
        "colab": {},
        "outputId": "0ad64fd9-1978-47cc-e75b-27f0e2ff8801"
      },
      "cell_type": "code",
      "source": [
        "#Test script\n",
        "with tf.Session() as sess:\n",
        "    print(D_W1)\n",
        "    print(D_b1)\n",
        "    print(D_W2)\n",
        "    print(D_b2)\n",
        "    print(G_W1)  \n",
        "    print(G_b1)\n",
        "    print(G_W2)\n",
        "    print(G_b2)\n",
        "    print(X)\n",
        "    print(Z)\n",
        "    "
      ],
      "execution_count": 0,
      "outputs": [
        {
          "output_type": "stream",
          "text": [
            "<tf.Variable 'D_W1:0' shape=(128, 784) dtype=float32_ref>\n",
            "<tf.Variable 'D_b1:0' shape=(128, 1) dtype=float32_ref>\n",
            "<tf.Variable 'D_W2:0' shape=(1, 128) dtype=float32_ref>\n",
            "<tf.Variable 'D_b2:0' shape=(1, 1) dtype=float32_ref>\n",
            "<tf.Variable 'G_W1:0' shape=(128, 100) dtype=float32_ref>\n",
            "<tf.Variable 'G_b1:0' shape=(128, 1) dtype=float32_ref>\n",
            "<tf.Variable 'G_W2:0' shape=(784, 128) dtype=float32_ref>\n",
            "<tf.Variable 'G_b2:0' shape=(784, 1) dtype=float32_ref>\n",
            "Tensor(\"Placeholder:0\", shape=(784, ?), dtype=float32)\n",
            "Tensor(\"Placeholder_1:0\", shape=(100, ?), dtype=float32)\n"
          ],
          "name": "stdout"
        }
      ]
    },
    {
      "metadata": {
        "id": "myiEBt4UN7m-",
        "colab_type": "code",
        "colab": {}
      },
      "cell_type": "code",
      "source": [
        "# Define random inputs for Generator\n",
        "def sample_Z(m, n):\n",
        "    return np.random.uniform(-1., 1., size=[m, n])"
      ],
      "execution_count": 0,
      "outputs": []
    },
    {
      "metadata": {
        "id": "4ezea_BQN7nN",
        "colab_type": "code",
        "colab": {}
      },
      "cell_type": "code",
      "source": [
        "def generator(z):\n",
        "    G_h1 = tf.nn.relu(tf.matmul(G_W1, z) + G_b1)\n",
        "    G_log_prob = tf.matmul(G_W2, G_h1) + G_b2\n",
        "    G_prob = tf.nn.sigmoid(G_log_prob)\n",
        "\n",
        "    return G_prob"
      ],
      "execution_count": 0,
      "outputs": []
    },
    {
      "metadata": {
        "id": "U9DspMJrN7nV",
        "colab_type": "code",
        "colab": {},
        "outputId": "e378d8a7-f23e-49db-cd64-239b1dddaa39"
      },
      "cell_type": "code",
      "source": [
        "# test script\n",
        "tf.reset_default_graph()\n",
        "\n",
        "with tf.Session() as sess:\n",
        "    print(generator(Z))"
      ],
      "execution_count": 0,
      "outputs": [
        {
          "output_type": "stream",
          "text": [
            "Tensor(\"Sigmoid:0\", shape=(784, ?), dtype=float32)\n"
          ],
          "name": "stdout"
        }
      ]
    },
    {
      "metadata": {
        "id": "i-UMisDAN7nd",
        "colab_type": "code",
        "colab": {}
      },
      "cell_type": "code",
      "source": [
        "def discriminator(x):\n",
        "    D_h1 = tf.nn.relu(tf.matmul(D_W1, x) + D_b1)\n",
        "    D_logit = tf.matmul(D_W2, D_h1) + D_b2\n",
        "    D_prob = tf.nn.sigmoid(D_logit)\n",
        "\n",
        "    return D_prob, D_logit"
      ],
      "execution_count": 0,
      "outputs": []
    },
    {
      "metadata": {
        "id": "A9CXy4DDN7nj",
        "colab_type": "code",
        "colab": {},
        "outputId": "2b75f402-7669-40f2-e035-0a1e7e8b0679"
      },
      "cell_type": "code",
      "source": [
        "# test script\n",
        "tf.reset_default_graph()\n",
        "\n",
        "with tf.Session() as sess:\n",
        "    print(discriminator(X))"
      ],
      "execution_count": 0,
      "outputs": [
        {
          "output_type": "stream",
          "text": [
            "(<tf.Tensor 'Sigmoid_3:0' shape=(1, ?) dtype=float32>, <tf.Tensor 'add_8:0' shape=(1, ?) dtype=float32>)\n"
          ],
          "name": "stdout"
        }
      ]
    },
    {
      "metadata": {
        "id": "ycNB20K8N7np",
        "colab_type": "code",
        "colab": {}
      },
      "cell_type": "code",
      "source": [
        "def plot(samples):\n",
        "    fig = plt.figure(figsize=(4, 4))\n",
        "    gs = gridspec.GridSpec(4, 4)\n",
        "    gs.update(wspace=0.05, hspace=0.05)\n",
        "    \n",
        "    samples = np.transpose(samples)\n",
        "    \n",
        "    for i, sample in enumerate(samples):\n",
        "        ax = plt.subplot(gs[i])\n",
        "        plt.axis('off')\n",
        "        ax.set_xticklabels([])\n",
        "        ax.set_yticklabels([])\n",
        "        ax.set_aspect('equal')\n",
        "        plt.imshow(sample.reshape(28, 28), cmap='Greys_r')\n",
        "\n",
        "    return fig"
      ],
      "execution_count": 0,
      "outputs": []
    },
    {
      "metadata": {
        "id": "ljw5FspzN7nv",
        "colab_type": "code",
        "colab": {}
      },
      "cell_type": "code",
      "source": [
        "G_sample = generator(Z)\n",
        "D_real, D_logit_real = discriminator(X)\n",
        "D_fake, D_logit_fake = discriminator(G_sample)\n",
        "\n",
        "# we use negative sign for the loss functions because they need to be maximized\n",
        "# whereas TensorFlow’s optimizer can only do minimization.\n",
        "# D_loss = -tf.reduce_mean(tf.log(D_real) + tf.log(1. - D_fake))\n",
        "# G_loss = -tf.reduce_mean(tf.log(D_fake))\n",
        "\n",
        "# Alternative losses:\n",
        "# -------------------\n",
        "D_loss_real = tf.reduce_mean(tf.nn.sigmoid_cross_entropy_with_logits(logits=D_logit_real, labels=tf.ones_like(D_logit_real)))\n",
        "D_loss_fake = tf.reduce_mean(tf.nn.sigmoid_cross_entropy_with_logits(logits=D_logit_fake, labels=tf.zeros_like(D_logit_fake)))\n",
        "D_loss = D_loss_real + D_loss_fake\n",
        "G_loss = tf.reduce_mean(tf.nn.sigmoid_cross_entropy_with_logits(logits=D_logit_fake, labels=tf.ones_like(D_logit_fake)))\n",
        "\n",
        "D_solver = tf.train.AdamOptimizer().minimize(D_loss, var_list=theta_D)\n",
        "G_solver = tf.train.AdamOptimizer().minimize(G_loss, var_list=theta_G)"
      ],
      "execution_count": 0,
      "outputs": []
    },
    {
      "metadata": {
        "id": "NOtLpv2GN7n2",
        "colab_type": "code",
        "colab": {
          "base_uri": "https://localhost:8080/",
          "height": 3939
        },
        "outputId": "7de5fcfe-c0cf-421f-de41-b1dac70556f9"
      },
      "cell_type": "code",
      "source": [
        "mb_size = 128\n",
        "Z_dim = 100\n",
        "\n",
        "mnist = input_data.read_data_sets('MNIST_data', one_hot=True)\n",
        "\n",
        "with tf.Session() as sess:\n",
        "    sess.run(tf.global_variables_initializer())\n",
        "\n",
        "    if not os.path.exists('out/'):\n",
        "        os.makedirs('out/')\n",
        "\n",
        "    i = 0\n",
        "\n",
        "    D_cost = []\n",
        "    G_cost =[]\n",
        "\n",
        "    for it in range(50000):\n",
        "        if it % 1000 == 0:\n",
        "            samples = sess.run(G_sample, feed_dict={Z: sample_Z(Z_dim, 16)})\n",
        "\n",
        "            fig = plot(samples)\n",
        "            plt.savefig('out/{}.png'.format(str(i).zfill(3)), bbox_inches='tight')\n",
        "            i += 1\n",
        "            plt.close(fig)\n",
        "\n",
        "        X_mb, _ = mnist.train.next_batch(mb_size)\n",
        "        X_mb = np.transpose(X_mb)\n",
        "\n",
        "        _, D_loss_curr = sess.run([D_solver, D_loss], feed_dict={X: X_mb, Z: sample_Z(Z_dim, mb_size)})\n",
        "        _, G_loss_curr = sess.run([G_solver, G_loss], feed_dict={Z: sample_Z(Z_dim, mb_size)})\n",
        "\n",
        "\n",
        "        if it % 1000 == 0:\n",
        "            print('Iter: {}'.format(it))\n",
        "            print('D loss: {:.4}'. format(D_loss_curr))\n",
        "            print('G_loss: {:.4}'.format(G_loss_curr))\n",
        "            print()\n",
        "        if it % 500 == 0:\n",
        "            D_cost.append(D_loss_curr)\n",
        "            G_cost.append(G_loss_curr)          \n",
        "        \n",
        "plt.figure(figsize=[14,6])\n",
        "plt.subplot(1,2,1)\n",
        "plt.plot(np.squeeze(D_cost))\n",
        "plt.ylabel('cost')\n",
        "plt.xlabel('iterations')\n",
        "plt.title(\"Discriminator D(x) Cost\")\n",
        "\n",
        "plt.subplot(1,2,2)\n",
        "plt.plot(np.squeeze(G_cost))\n",
        "plt.ylabel('cost')\n",
        "plt.xlabel('iterations')\n",
        "plt.title(\"Generator G(z) Cost\")\n",
        "plt.subplots_adjust(wspace=0.3);"
      ],
      "execution_count": 30,
      "outputs": [
        {
          "output_type": "stream",
          "text": [
            "Extracting MNIST_data/train-images-idx3-ubyte.gz\n",
            "Extracting MNIST_data/train-labels-idx1-ubyte.gz\n",
            "Extracting MNIST_data/t10k-images-idx3-ubyte.gz\n",
            "Extracting MNIST_data/t10k-labels-idx1-ubyte.gz\n",
            "Iter: 0\n",
            "D loss: 1.831\n",
            "G_loss: 1.91\n",
            "\n",
            "Iter: 1000\n",
            "D loss: 0.01238\n",
            "G_loss: 14.25\n",
            "\n",
            "Iter: 2000\n",
            "D loss: 0.05323\n",
            "G_loss: 4.785\n",
            "\n",
            "Iter: 3000\n",
            "D loss: 0.08728\n",
            "G_loss: 4.641\n",
            "\n",
            "Iter: 4000\n",
            "D loss: 0.1304\n",
            "G_loss: 5.14\n",
            "\n",
            "Iter: 5000\n",
            "D loss: 0.2918\n",
            "G_loss: 4.758\n",
            "\n",
            "Iter: 6000\n",
            "D loss: 0.5316\n",
            "G_loss: 4.675\n",
            "\n",
            "Iter: 7000\n",
            "D loss: 0.3515\n",
            "G_loss: 4.09\n",
            "\n",
            "Iter: 8000\n",
            "D loss: 0.4734\n",
            "G_loss: 4.061\n",
            "\n",
            "Iter: 9000\n",
            "D loss: 0.396\n",
            "G_loss: 3.294\n",
            "\n",
            "Iter: 10000\n",
            "D loss: 0.6251\n",
            "G_loss: 2.591\n",
            "\n",
            "Iter: 11000\n",
            "D loss: 0.4952\n",
            "G_loss: 2.345\n",
            "\n",
            "Iter: 12000\n",
            "D loss: 0.6191\n",
            "G_loss: 2.617\n",
            "\n",
            "Iter: 13000\n",
            "D loss: 0.5914\n",
            "G_loss: 2.736\n",
            "\n",
            "Iter: 14000\n",
            "D loss: 0.7236\n",
            "G_loss: 2.47\n",
            "\n",
            "Iter: 15000\n",
            "D loss: 0.9064\n",
            "G_loss: 2.057\n",
            "\n",
            "Iter: 16000\n",
            "D loss: 0.5195\n",
            "G_loss: 2.763\n",
            "\n",
            "Iter: 17000\n",
            "D loss: 0.7989\n",
            "G_loss: 2.069\n",
            "\n",
            "Iter: 18000\n",
            "D loss: 1.013\n",
            "G_loss: 1.842\n",
            "\n",
            "Iter: 19000\n",
            "D loss: 0.8276\n",
            "G_loss: 1.776\n",
            "\n",
            "Iter: 20000\n",
            "D loss: 0.805\n",
            "G_loss: 1.673\n",
            "\n",
            "Iter: 21000\n",
            "D loss: 0.6384\n",
            "G_loss: 2.415\n",
            "\n",
            "Iter: 22000\n",
            "D loss: 0.8107\n",
            "G_loss: 2.357\n",
            "\n",
            "Iter: 23000\n",
            "D loss: 0.8597\n",
            "G_loss: 2.009\n",
            "\n",
            "Iter: 24000\n",
            "D loss: 0.8397\n",
            "G_loss: 1.866\n",
            "\n",
            "Iter: 25000\n",
            "D loss: 0.7545\n",
            "G_loss: 1.917\n",
            "\n",
            "Iter: 26000\n",
            "D loss: 0.9366\n",
            "G_loss: 2.086\n",
            "\n",
            "Iter: 27000\n",
            "D loss: 1.027\n",
            "G_loss: 2.146\n",
            "\n",
            "Iter: 28000\n",
            "D loss: 0.8684\n",
            "G_loss: 2.331\n",
            "\n",
            "Iter: 29000\n",
            "D loss: 0.8236\n",
            "G_loss: 2.242\n",
            "\n",
            "Iter: 30000\n",
            "D loss: 0.736\n",
            "G_loss: 2.065\n",
            "\n",
            "Iter: 31000\n",
            "D loss: 0.6002\n",
            "G_loss: 2.044\n",
            "\n",
            "Iter: 32000\n",
            "D loss: 0.7365\n",
            "G_loss: 2.342\n",
            "\n",
            "Iter: 33000\n",
            "D loss: 0.8339\n",
            "G_loss: 2.514\n",
            "\n",
            "Iter: 34000\n",
            "D loss: 0.6047\n",
            "G_loss: 2.363\n",
            "\n",
            "Iter: 35000\n",
            "D loss: 0.7646\n",
            "G_loss: 2.409\n",
            "\n",
            "Iter: 36000\n",
            "D loss: 0.8539\n",
            "G_loss: 1.873\n",
            "\n",
            "Iter: 37000\n",
            "D loss: 0.7796\n",
            "G_loss: 2.052\n",
            "\n",
            "Iter: 38000\n",
            "D loss: 0.7523\n",
            "G_loss: 1.984\n",
            "\n",
            "Iter: 39000\n",
            "D loss: 0.8046\n",
            "G_loss: 2.25\n",
            "\n",
            "Iter: 40000\n",
            "D loss: 0.8513\n",
            "G_loss: 2.028\n",
            "\n",
            "Iter: 41000\n",
            "D loss: 0.6471\n",
            "G_loss: 2.365\n",
            "\n",
            "Iter: 42000\n",
            "D loss: 0.739\n",
            "G_loss: 2.459\n",
            "\n",
            "Iter: 43000\n",
            "D loss: 0.8464\n",
            "G_loss: 2.304\n",
            "\n",
            "Iter: 44000\n",
            "D loss: 0.7305\n",
            "G_loss: 2.206\n",
            "\n",
            "Iter: 45000\n",
            "D loss: 0.7853\n",
            "G_loss: 1.922\n",
            "\n",
            "Iter: 46000\n",
            "D loss: 0.9181\n",
            "G_loss: 2.366\n",
            "\n",
            "Iter: 47000\n",
            "D loss: 0.7325\n",
            "G_loss: 2.047\n",
            "\n",
            "Iter: 48000\n",
            "D loss: 0.7421\n",
            "G_loss: 2.051\n",
            "\n",
            "Iter: 49000\n",
            "D loss: 0.8955\n",
            "G_loss: 1.793\n",
            "\n"
          ],
          "name": "stdout"
        },
        {
          "output_type": "display_data",
          "data": {
            "image/png": "[encoded data removed]",
            "text/plain": [
              "<matplotlib.figure.Figure at 0x7feb0dd7f3c8>"
            ]
          },
          "metadata": {
            "tags": []
          }
        }
      ]
    },
    {
      "metadata": {
        "id": "m4nZUDmmPLQn",
        "colab_type": "code",
        "colab": {}
      },
      "cell_type": "code",
      "source": [
        ""
      ],
      "execution_count": 0,
      "outputs": []
    }
  ]
}