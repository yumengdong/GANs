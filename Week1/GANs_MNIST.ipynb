{
 "cells": [
  {
   "cell_type": "code",
   "execution_count": 3,
   "metadata": {},
   "outputs": [],
   "source": [
    "import tensorflow as tf\n",
    "from tensorflow.examples.tutorials.mnist import input_data\n",
    "import numpy as np\n",
    "import matplotlib.pyplot as plt\n",
    "import matplotlib.gridspec as gridspec\n",
    "import os\n",
    "from tensorflow.python.framework import ops"
   ]
  },
  {
   "cell_type": "code",
   "execution_count": 4,
   "metadata": {},
   "outputs": [],
   "source": [
    "# Discriminator Net, hidden layer nodes = 128\n",
    "tf.reset_default_graph()\n",
    "X = tf.placeholder(tf.float32, shape=[784, None])\n",
    "\n",
    "D_W1 = tf.get_variable('D_W1', [128, 784], initializer = tf.contrib.layers.xavier_initializer(seed = 1))\n",
    "D_b1 = tf.get_variable('D_b1', [128, 1], initializer = tf.zeros_initializer())\n",
    "\n",
    "D_W2 = tf.get_variable('D_W2', [1, 128], initializer = tf.contrib.layers.xavier_initializer(seed = 1))\n",
    "D_b2 = tf.get_variable('D_b2', [1, 1], initializer = tf.zeros_initializer())\n",
    "\n",
    "theta_D = [D_W1, D_W2, D_b1, D_b2]\n",
    "\n",
    "# Generator Net, hidden layer nodes = 128\n",
    "Z = tf.placeholder(tf.float32, shape=[100, None])\n",
    "\n",
    "G_W1 = tf.get_variable('G_W1', [128, 100], initializer = tf.contrib.layers.xavier_initializer(seed = 1))\n",
    "G_b1 = tf.get_variable('G_b1', [128, 1], initializer = tf.zeros_initializer())\n",
    "\n",
    "G_W2 = tf.get_variable('G_W2', [784, 128], initializer = tf.contrib.layers.xavier_initializer(seed = 1))\n",
    "G_b2 = tf.get_variable('G_b2', [784, 1], initializer = tf.zeros_initializer())\n",
    "\n",
    "theta_G = [G_W1, G_W2, G_b1, G_b2]\n"
   ]
  },
  {
   "cell_type": "code",
   "execution_count": 122,
   "metadata": {},
   "outputs": [
    {
     "name": "stdout",
     "output_type": "stream",
     "text": [
      "<tf.Variable 'D_W1:0' shape=(128, 784) dtype=float32_ref>\n",
      "<tf.Variable 'D_b1:0' shape=(128, 1) dtype=float32_ref>\n",
      "<tf.Variable 'D_W2:0' shape=(1, 128) dtype=float32_ref>\n",
      "<tf.Variable 'D_b2:0' shape=(1, 1) dtype=float32_ref>\n",
      "<tf.Variable 'G_W1:0' shape=(128, 100) dtype=float32_ref>\n",
      "<tf.Variable 'G_b1:0' shape=(128, 1) dtype=float32_ref>\n",
      "<tf.Variable 'G_W2:0' shape=(784, 128) dtype=float32_ref>\n",
      "<tf.Variable 'G_b2:0' shape=(784, 1) dtype=float32_ref>\n",
      "Tensor(\"Placeholder:0\", shape=(784, ?), dtype=float32)\n",
      "Tensor(\"Placeholder_1:0\", shape=(100, ?), dtype=float32)\n"
     ]
    }
   ],
   "source": [
    "#Test script\n",
    "with tf.Session() as sess:\n",
    "    print(D_W1)\n",
    "    print(D_b1)\n",
    "    print(D_W2)\n",
    "    print(D_b2)\n",
    "    print(G_W1)  \n",
    "    print(G_b1)\n",
    "    print(G_W2)\n",
    "    print(G_b2)\n",
    "    print(X)\n",
    "    print(Z)\n",
    "    "
   ]
  },
  {
   "cell_type": "code",
   "execution_count": 5,
   "metadata": {},
   "outputs": [],
   "source": [
    "# Define random inputs for Generator\n",
    "def sample_Z(m, n):\n",
    "    return np.random.uniform(-1., 1., size=[m, n])"
   ]
  },
  {
   "cell_type": "code",
   "execution_count": 6,
   "metadata": {},
   "outputs": [],
   "source": [
    "def generator(z):\n",
    "    G_h1 = tf.nn.relu(tf.matmul(G_W1, z) + G_b1)\n",
    "    G_log_prob = tf.matmul(G_W2, G_h1) + G_b2\n",
    "    G_prob = tf.nn.sigmoid(G_log_prob)\n",
    "\n",
    "    return G_prob"
   ]
  },
  {
   "cell_type": "code",
   "execution_count": 125,
   "metadata": {},
   "outputs": [
    {
     "name": "stdout",
     "output_type": "stream",
     "text": [
      "Tensor(\"Sigmoid:0\", shape=(784, ?), dtype=float32)\n"
     ]
    }
   ],
   "source": [
    "# test script\n",
    "tf.reset_default_graph()\n",
    "\n",
    "with tf.Session() as sess:\n",
    "    print(generator(Z))"
   ]
  },
  {
   "cell_type": "code",
   "execution_count": 7,
   "metadata": {},
   "outputs": [],
   "source": [
    "def discriminator(x):\n",
    "    D_h1 = tf.nn.relu(tf.matmul(D_W1, x) + D_b1)\n",
    "    D_logit = tf.matmul(D_W2, D_h1) + D_b2\n",
    "    D_prob = tf.nn.sigmoid(D_logit)\n",
    "\n",
    "    return D_prob, D_logit"
   ]
  },
  {
   "cell_type": "code",
   "execution_count": 143,
   "metadata": {},
   "outputs": [
    {
     "name": "stdout",
     "output_type": "stream",
     "text": [
      "(<tf.Tensor 'Sigmoid_3:0' shape=(1, ?) dtype=float32>, <tf.Tensor 'add_8:0' shape=(1, ?) dtype=float32>)\n"
     ]
    }
   ],
   "source": [
    "# test script\n",
    "tf.reset_default_graph()\n",
    "\n",
    "with tf.Session() as sess:\n",
    "    print(discriminator(X))"
   ]
  },
  {
   "cell_type": "code",
   "execution_count": 8,
   "metadata": {},
   "outputs": [],
   "source": [
    "def plot(samples):\n",
    "    fig = plt.figure(figsize=(4, 4))\n",
    "    gs = gridspec.GridSpec(4, 4)\n",
    "    gs.update(wspace=0.05, hspace=0.05)\n",
    "    \n",
    "    samples = np.transpose(samples)\n",
    "    \n",
    "    for i, sample in enumerate(samples):\n",
    "        ax = plt.subplot(gs[i])\n",
    "        plt.axis('off')\n",
    "        ax.set_xticklabels([])\n",
    "        ax.set_yticklabels([])\n",
    "        ax.set_aspect('equal')\n",
    "        plt.imshow(sample.reshape(28, 28), cmap='Greys_r')\n",
    "\n",
    "    return fig"
   ]
  },
  {
   "cell_type": "code",
   "execution_count": 9,
   "metadata": {},
   "outputs": [],
   "source": [
    "G_sample = generator(Z)\n",
    "D_real, D_logit_real = discriminator(X)\n",
    "D_fake, D_logit_fake = discriminator(G_sample)\n",
    "\n",
    "# we use negative sign for the loss functions because they need to be maximized\n",
    "# whereas TensorFlow’s optimizer can only do minimization.\n",
    "# D_loss = -tf.reduce_mean(tf.log(D_real) + tf.log(1. - D_fake))\n",
    "# G_loss = -tf.reduce_mean(tf.log(D_fake))\n",
    "\n",
    "# Alternative losses:\n",
    "# -------------------\n",
    "D_loss_real = tf.reduce_mean(tf.nn.sigmoid_cross_entropy_with_logits(logits=D_logit_real, labels=tf.ones_like(D_logit_real)))\n",
    "D_loss_fake = tf.reduce_mean(tf.nn.sigmoid_cross_entropy_with_logits(logits=D_logit_fake, labels=tf.zeros_like(D_logit_fake)))\n",
    "D_loss = D_loss_real + D_loss_fake\n",
    "G_loss = tf.reduce_mean(tf.nn.sigmoid_cross_entropy_with_logits(logits=D_logit_fake, labels=tf.ones_like(D_logit_fake)))\n",
    "\n",
    "D_solver = tf.train.AdamOptimizer().minimize(D_loss, var_list=theta_D)\n",
    "G_solver = tf.train.AdamOptimizer().minimize(G_loss, var_list=theta_G)"
   ]
  },
  {
   "cell_type": "code",
   "execution_count": 15,
   "metadata": {},
   "outputs": [
    {
     "name": "stdout",
     "output_type": "stream",
     "text": [
      "Extracting MNIST_data\\train-images-idx3-ubyte.gz\n",
      "Extracting MNIST_data\\train-labels-idx1-ubyte.gz\n",
      "Extracting MNIST_data\\t10k-images-idx3-ubyte.gz\n",
      "Extracting MNIST_data\\t10k-labels-idx1-ubyte.gz\n",
      "Iter: 0\n",
      "D loss: 1.836\n",
      "G_loss: 1.946\n",
      "\n"
     ]
    },
    {
     "data": {
      "image/png": "[encoded data removed]",
      "text/plain": [
       "<Figure size 1008x432 with 2 Axes>"
      ]
     },
     "metadata": {
      "needs_background": "light"
     },
     "output_type": "display_data"
    }
   ],
   "source": [
    "mb_size = 128\n",
    "Z_dim = 100\n",
    "\n",
    "mnist = input_data.read_data_sets('MNIST_data', one_hot=True)\n",
    "\n",
    "with tf.Session() as sess:\n",
    "    sess.run(tf.global_variables_initializer())\n",
    "\n",
    "    if not os.path.exists('out/'):\n",
    "        os.makedirs('out/')\n",
    "\n",
    "    i = 0\n",
    "\n",
    "    D_cost = []\n",
    "    G_cost =[]\n",
    "\n",
    "    for it in range(1000):\n",
    "        if it % 1000 == 0:\n",
    "            samples = sess.run(G_sample, feed_dict={Z: sample_Z(Z_dim, 16)})\n",
    "\n",
    "            fig = plot(samples)\n",
    "            plt.savefig('out/{}.png'.format(str(i).zfill(3)), bbox_inches='tight')\n",
    "            i += 1\n",
    "            plt.close(fig)\n",
    "\n",
    "        X_mb, _ = mnist.train.next_batch(mb_size)\n",
    "        X_mb = np.transpose(X_mb)\n",
    "\n",
    "        _, D_loss_curr = sess.run([D_solver, D_loss], feed_dict={X: X_mb, Z: sample_Z(Z_dim, mb_size)})\n",
    "        _, G_loss_curr = sess.run([G_solver, G_loss], feed_dict={Z: sample_Z(Z_dim, mb_size)})\n",
    "\n",
    "        D_cost.append(D_loss_curr)\n",
    "        G_cost.append(G_loss_curr)\n",
    "\n",
    "        if it % 1000 == 0:\n",
    "            print('Iter: {}'.format(it))\n",
    "            print('D loss: {:.4}'. format(D_loss_curr))\n",
    "            print('G_loss: {:.4}'.format(G_loss_curr))\n",
    "            print()\n",
    "        if it % 100 == 0:\n",
    "            D_cost.append(D_loss_curr)\n",
    "            G_cost.append(G_loss_curr)          \n",
    "        \n",
    "plt.figure(figsize=[14,6])\n",
    "plt.subplot(1,2,1)\n",
    "plt.plot(np.squeeze(D_cost))\n",
    "plt.ylabel('cost')\n",
    "plt.xlabel('iterations')\n",
    "plt.title(\"Generator G(z) Cost\")\n",
    "\n",
    "plt.subplot(1,2,2)\n",
    "plt.plot(np.squeeze(G_cost))\n",
    "plt.ylabel('cost')\n",
    "plt.xlabel('iterations')\n",
    "plt.title(\"Generator G(z) Cost\")\n",
    "plt.subplots_adjust(wspace=0.3);"
   ]
  }
 ],
 "metadata": {
  "kernelspec": {
   "display_name": "Python [default]",
   "language": "python",
   "name": "python3"
  },
  "language_info": {
   "codemirror_mode": {
    "name": "ipython",
    "version": 3
   },
   "file_extension": ".py",
   "mimetype": "text/x-python",
   "name": "python",
   "nbconvert_exporter": "python",
   "pygments_lexer": "ipython3",
   "version": "3.6.7"
  }
 },
 "nbformat": 4,
 "nbformat_minor": 2
}
